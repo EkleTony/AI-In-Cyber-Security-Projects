{
 "cells": [
  {
   "cell_type": "markdown",
   "id": "deb18710",
   "metadata": {
    "id": "deb18710"
   },
   "source": [
    "# CSC-7570-001 - AI Assisted Cyber Security\n",
    "\n",
    "# ML-Based Assisted Access Control Action/Permission prediction\n",
    "\n",
    "## **Task**\n",
    "\n",
    "1. We aim to build a machine learning model that manages employee’s access to various resources in an organization. The model will improve access control decisions by accurately identifying authorized or unauthorized access and adapting access privileges based on historical patterns.\n",
    "2. We will be using the Kaggle’s employee dataset to train and test the developed model. https://www.kaggle.com/datasets/lucamassaron/amazon-employee-access-challenge?resource=download\n",
    "3. The goal is to replace the security policies with a trained machine learning model."
   ]
  },
  {
   "cell_type": "markdown",
   "id": "7c461768",
   "metadata": {
    "id": "7c461768"
   },
   "source": [
    "## 1.0 Import Libraries"
   ]
  },
  {
   "cell_type": "code",
   "execution_count": 39,
   "id": "fe2a5481",
   "metadata": {
    "id": "fe2a5481"
   },
   "outputs": [],
   "source": [
    "# importing libraries\n",
    "\n",
    "import numpy as np\n",
    "import pandas as pd\n",
    "import matplotlib.pyplot as plt\n",
    "import os\n",
    "import seaborn as sns\n",
    "import warnings\n"
   ]
  },
  {
   "cell_type": "markdown",
   "id": "359d96be",
   "metadata": {
    "id": "359d96be"
   },
   "source": [
    "## 2.0 Load dataset\n",
    "\n",
    "The data comes from Amazon Inc. collected from 2010-2011 (published on Kaggle platform). The training set consists of 32769 samples and the testing one of 58922 samples. The training set has one label attribute named **“ACTION”**, whose value **“1”** indicates an application is approved whereas **“0”** indicates rejection.\n",
    "\n",
    "As predictors of this state, there are **eight (8) features**, indicating characteristics of the required resource anf the role and work group of the employee at Amazon requesting access"
   ]
  },
  {
   "cell_type": "code",
   "execution_count": 40,
   "id": "84bc4f49",
   "metadata": {
    "colab": {
     "base_uri": "https://localhost:8080/",
     "height": 206
    },
    "id": "84bc4f49",
    "outputId": "dbace75c-c61f-47af-a434-9ffb12bcc975"
   },
   "outputs": [
    {
     "data": {
      "text/html": [
       "\n",
       "  <div id=\"df-4ea20fd2-4eb3-4d16-83eb-355d33e2918d\" class=\"colab-df-container\">\n",
       "    <div>\n",
       "<style scoped>\n",
       "    .dataframe tbody tr th:only-of-type {\n",
       "        vertical-align: middle;\n",
       "    }\n",
       "\n",
       "    .dataframe tbody tr th {\n",
       "        vertical-align: top;\n",
       "    }\n",
       "\n",
       "    .dataframe thead th {\n",
       "        text-align: right;\n",
       "    }\n",
       "</style>\n",
       "<table border=\"1\" class=\"dataframe\">\n",
       "  <thead>\n",
       "    <tr style=\"text-align: right;\">\n",
       "      <th></th>\n",
       "      <th>ACTION</th>\n",
       "      <th>RESOURCE</th>\n",
       "      <th>MGR_ID</th>\n",
       "      <th>ROLE_ROLLUP_1</th>\n",
       "      <th>ROLE_ROLLUP_2</th>\n",
       "      <th>ROLE_DEPTNAME</th>\n",
       "      <th>ROLE_TITLE</th>\n",
       "      <th>ROLE_FAMILY_DESC</th>\n",
       "      <th>ROLE_FAMILY</th>\n",
       "      <th>ROLE_CODE</th>\n",
       "    </tr>\n",
       "  </thead>\n",
       "  <tbody>\n",
       "    <tr>\n",
       "      <th>0</th>\n",
       "      <td>1</td>\n",
       "      <td>39353</td>\n",
       "      <td>85475</td>\n",
       "      <td>117961</td>\n",
       "      <td>118300</td>\n",
       "      <td>123472</td>\n",
       "      <td>117905</td>\n",
       "      <td>117906</td>\n",
       "      <td>290919</td>\n",
       "      <td>117908</td>\n",
       "    </tr>\n",
       "    <tr>\n",
       "      <th>1</th>\n",
       "      <td>1</td>\n",
       "      <td>17183</td>\n",
       "      <td>1540</td>\n",
       "      <td>117961</td>\n",
       "      <td>118343</td>\n",
       "      <td>123125</td>\n",
       "      <td>118536</td>\n",
       "      <td>118536</td>\n",
       "      <td>308574</td>\n",
       "      <td>118539</td>\n",
       "    </tr>\n",
       "    <tr>\n",
       "      <th>2</th>\n",
       "      <td>1</td>\n",
       "      <td>36724</td>\n",
       "      <td>14457</td>\n",
       "      <td>118219</td>\n",
       "      <td>118220</td>\n",
       "      <td>117884</td>\n",
       "      <td>117879</td>\n",
       "      <td>267952</td>\n",
       "      <td>19721</td>\n",
       "      <td>117880</td>\n",
       "    </tr>\n",
       "    <tr>\n",
       "      <th>3</th>\n",
       "      <td>1</td>\n",
       "      <td>36135</td>\n",
       "      <td>5396</td>\n",
       "      <td>117961</td>\n",
       "      <td>118343</td>\n",
       "      <td>119993</td>\n",
       "      <td>118321</td>\n",
       "      <td>240983</td>\n",
       "      <td>290919</td>\n",
       "      <td>118322</td>\n",
       "    </tr>\n",
       "    <tr>\n",
       "      <th>4</th>\n",
       "      <td>1</td>\n",
       "      <td>42680</td>\n",
       "      <td>5905</td>\n",
       "      <td>117929</td>\n",
       "      <td>117930</td>\n",
       "      <td>119569</td>\n",
       "      <td>119323</td>\n",
       "      <td>123932</td>\n",
       "      <td>19793</td>\n",
       "      <td>119325</td>\n",
       "    </tr>\n",
       "  </tbody>\n",
       "</table>\n",
       "</div>\n",
       "    <div class=\"colab-df-buttons\">\n",
       "\n",
       "  <div class=\"colab-df-container\">\n",
       "    <button class=\"colab-df-convert\" onclick=\"convertToInteractive('df-4ea20fd2-4eb3-4d16-83eb-355d33e2918d')\"\n",
       "            title=\"Convert this dataframe to an interactive table.\"\n",
       "            style=\"display:none;\">\n",
       "\n",
       "  <svg xmlns=\"http://www.w3.org/2000/svg\" height=\"24px\" viewBox=\"0 -960 960 960\">\n",
       "    <path d=\"M120-120v-720h720v720H120Zm60-500h600v-160H180v160Zm220 220h160v-160H400v160Zm0 220h160v-160H400v160ZM180-400h160v-160H180v160Zm440 0h160v-160H620v160ZM180-180h160v-160H180v160Zm440 0h160v-160H620v160Z\"/>\n",
       "  </svg>\n",
       "    </button>\n",
       "\n",
       "  <style>\n",
       "    .colab-df-container {\n",
       "      display:flex;\n",
       "      gap: 12px;\n",
       "    }\n",
       "\n",
       "    .colab-df-convert {\n",
       "      background-color: #E8F0FE;\n",
       "      border: none;\n",
       "      border-radius: 50%;\n",
       "      cursor: pointer;\n",
       "      display: none;\n",
       "      fill: #1967D2;\n",
       "      height: 32px;\n",
       "      padding: 0 0 0 0;\n",
       "      width: 32px;\n",
       "    }\n",
       "\n",
       "    .colab-df-convert:hover {\n",
       "      background-color: #E2EBFA;\n",
       "      box-shadow: 0px 1px 2px rgba(60, 64, 67, 0.3), 0px 1px 3px 1px rgba(60, 64, 67, 0.15);\n",
       "      fill: #174EA6;\n",
       "    }\n",
       "\n",
       "    .colab-df-buttons div {\n",
       "      margin-bottom: 4px;\n",
       "    }\n",
       "\n",
       "    [theme=dark] .colab-df-convert {\n",
       "      background-color: #3B4455;\n",
       "      fill: #D2E3FC;\n",
       "    }\n",
       "\n",
       "    [theme=dark] .colab-df-convert:hover {\n",
       "      background-color: #434B5C;\n",
       "      box-shadow: 0px 1px 3px 1px rgba(0, 0, 0, 0.15);\n",
       "      filter: drop-shadow(0px 1px 2px rgba(0, 0, 0, 0.3));\n",
       "      fill: #FFFFFF;\n",
       "    }\n",
       "  </style>\n",
       "\n",
       "    <script>\n",
       "      const buttonEl =\n",
       "        document.querySelector('#df-4ea20fd2-4eb3-4d16-83eb-355d33e2918d button.colab-df-convert');\n",
       "      buttonEl.style.display =\n",
       "        google.colab.kernel.accessAllowed ? 'block' : 'none';\n",
       "\n",
       "      async function convertToInteractive(key) {\n",
       "        const element = document.querySelector('#df-4ea20fd2-4eb3-4d16-83eb-355d33e2918d');\n",
       "        const dataTable =\n",
       "          await google.colab.kernel.invokeFunction('convertToInteractive',\n",
       "                                                    [key], {});\n",
       "        if (!dataTable) return;\n",
       "\n",
       "        const docLinkHtml = 'Like what you see? Visit the ' +\n",
       "          '<a target=\"_blank\" href=https://colab.research.google.com/notebooks/data_table.ipynb>data table notebook</a>'\n",
       "          + ' to learn more about interactive tables.';\n",
       "        element.innerHTML = '';\n",
       "        dataTable['output_type'] = 'display_data';\n",
       "        await google.colab.output.renderOutput(dataTable, element);\n",
       "        const docLink = document.createElement('div');\n",
       "        docLink.innerHTML = docLinkHtml;\n",
       "        element.appendChild(docLink);\n",
       "      }\n",
       "    </script>\n",
       "  </div>\n",
       "\n",
       "\n",
       "<div id=\"df-6bdbbcd9-1aed-4e46-b0a6-3eabafb0e3ff\">\n",
       "  <button class=\"colab-df-quickchart\" onclick=\"quickchart('df-6bdbbcd9-1aed-4e46-b0a6-3eabafb0e3ff')\"\n",
       "            title=\"Suggest charts.\"\n",
       "            style=\"display:none;\">\n",
       "\n",
       "<svg xmlns=\"http://www.w3.org/2000/svg\" height=\"24px\"viewBox=\"0 0 24 24\"\n",
       "     width=\"24px\">\n",
       "    <g>\n",
       "        <path d=\"M19 3H5c-1.1 0-2 .9-2 2v14c0 1.1.9 2 2 2h14c1.1 0 2-.9 2-2V5c0-1.1-.9-2-2-2zM9 17H7v-7h2v7zm4 0h-2V7h2v10zm4 0h-2v-4h2v4z\"/>\n",
       "    </g>\n",
       "</svg>\n",
       "  </button>\n",
       "\n",
       "<style>\n",
       "  .colab-df-quickchart {\n",
       "      --bg-color: #E8F0FE;\n",
       "      --fill-color: #1967D2;\n",
       "      --hover-bg-color: #E2EBFA;\n",
       "      --hover-fill-color: #174EA6;\n",
       "      --disabled-fill-color: #AAA;\n",
       "      --disabled-bg-color: #DDD;\n",
       "  }\n",
       "\n",
       "  [theme=dark] .colab-df-quickchart {\n",
       "      --bg-color: #3B4455;\n",
       "      --fill-color: #D2E3FC;\n",
       "      --hover-bg-color: #434B5C;\n",
       "      --hover-fill-color: #FFFFFF;\n",
       "      --disabled-bg-color: #3B4455;\n",
       "      --disabled-fill-color: #666;\n",
       "  }\n",
       "\n",
       "  .colab-df-quickchart {\n",
       "    background-color: var(--bg-color);\n",
       "    border: none;\n",
       "    border-radius: 50%;\n",
       "    cursor: pointer;\n",
       "    display: none;\n",
       "    fill: var(--fill-color);\n",
       "    height: 32px;\n",
       "    padding: 0;\n",
       "    width: 32px;\n",
       "  }\n",
       "\n",
       "  .colab-df-quickchart:hover {\n",
       "    background-color: var(--hover-bg-color);\n",
       "    box-shadow: 0 1px 2px rgba(60, 64, 67, 0.3), 0 1px 3px 1px rgba(60, 64, 67, 0.15);\n",
       "    fill: var(--button-hover-fill-color);\n",
       "  }\n",
       "\n",
       "  .colab-df-quickchart-complete:disabled,\n",
       "  .colab-df-quickchart-complete:disabled:hover {\n",
       "    background-color: var(--disabled-bg-color);\n",
       "    fill: var(--disabled-fill-color);\n",
       "    box-shadow: none;\n",
       "  }\n",
       "\n",
       "  .colab-df-spinner {\n",
       "    border: 2px solid var(--fill-color);\n",
       "    border-color: transparent;\n",
       "    border-bottom-color: var(--fill-color);\n",
       "    animation:\n",
       "      spin 1s steps(1) infinite;\n",
       "  }\n",
       "\n",
       "  @keyframes spin {\n",
       "    0% {\n",
       "      border-color: transparent;\n",
       "      border-bottom-color: var(--fill-color);\n",
       "      border-left-color: var(--fill-color);\n",
       "    }\n",
       "    20% {\n",
       "      border-color: transparent;\n",
       "      border-left-color: var(--fill-color);\n",
       "      border-top-color: var(--fill-color);\n",
       "    }\n",
       "    30% {\n",
       "      border-color: transparent;\n",
       "      border-left-color: var(--fill-color);\n",
       "      border-top-color: var(--fill-color);\n",
       "      border-right-color: var(--fill-color);\n",
       "    }\n",
       "    40% {\n",
       "      border-color: transparent;\n",
       "      border-right-color: var(--fill-color);\n",
       "      border-top-color: var(--fill-color);\n",
       "    }\n",
       "    60% {\n",
       "      border-color: transparent;\n",
       "      border-right-color: var(--fill-color);\n",
       "    }\n",
       "    80% {\n",
       "      border-color: transparent;\n",
       "      border-right-color: var(--fill-color);\n",
       "      border-bottom-color: var(--fill-color);\n",
       "    }\n",
       "    90% {\n",
       "      border-color: transparent;\n",
       "      border-bottom-color: var(--fill-color);\n",
       "    }\n",
       "  }\n",
       "</style>\n",
       "\n",
       "  <script>\n",
       "    async function quickchart(key) {\n",
       "      const quickchartButtonEl =\n",
       "        document.querySelector('#' + key + ' button');\n",
       "      quickchartButtonEl.disabled = true;  // To prevent multiple clicks.\n",
       "      quickchartButtonEl.classList.add('colab-df-spinner');\n",
       "      try {\n",
       "        const charts = await google.colab.kernel.invokeFunction(\n",
       "            'suggestCharts', [key], {});\n",
       "      } catch (error) {\n",
       "        console.error('Error during call to suggestCharts:', error);\n",
       "      }\n",
       "      quickchartButtonEl.classList.remove('colab-df-spinner');\n",
       "      quickchartButtonEl.classList.add('colab-df-quickchart-complete');\n",
       "    }\n",
       "    (() => {\n",
       "      let quickchartButtonEl =\n",
       "        document.querySelector('#df-6bdbbcd9-1aed-4e46-b0a6-3eabafb0e3ff button');\n",
       "      quickchartButtonEl.style.display =\n",
       "        google.colab.kernel.accessAllowed ? 'block' : 'none';\n",
       "    })();\n",
       "  </script>\n",
       "</div>\n",
       "    </div>\n",
       "  </div>\n"
      ],
      "text/plain": [
       "   ACTION  RESOURCE  MGR_ID  ROLE_ROLLUP_1  ROLE_ROLLUP_2  ROLE_DEPTNAME  \\\n",
       "0       1     39353   85475         117961         118300         123472   \n",
       "1       1     17183    1540         117961         118343         123125   \n",
       "2       1     36724   14457         118219         118220         117884   \n",
       "3       1     36135    5396         117961         118343         119993   \n",
       "4       1     42680    5905         117929         117930         119569   \n",
       "\n",
       "   ROLE_TITLE  ROLE_FAMILY_DESC  ROLE_FAMILY  ROLE_CODE  \n",
       "0      117905            117906       290919     117908  \n",
       "1      118536            118536       308574     118539  \n",
       "2      117879            267952        19721     117880  \n",
       "3      118321            240983       290919     118322  \n",
       "4      119323            123932        19793     119325  "
      ]
     },
     "execution_count": 40,
     "metadata": {},
     "output_type": "execute_result"
    }
   ],
   "source": [
    "df = pd.read_csv(\"train.csv\")\n",
    "df.head()"
   ]
  },
  {
   "cell_type": "code",
   "execution_count": 41,
   "id": "ea61aaa5",
   "metadata": {
    "colab": {
     "base_uri": "https://localhost:8080/"
    },
    "id": "ea61aaa5",
    "outputId": "53bd732d-693d-46ec-d233-2a83a9ad7537"
   },
   "outputs": [
    {
     "data": {
      "text/plain": [
       "Index(['ACTION', 'RESOURCE', 'MGR_ID', 'ROLE_ROLLUP_1', 'ROLE_ROLLUP_2',\n",
       "       'ROLE_DEPTNAME', 'ROLE_TITLE', 'ROLE_FAMILY_DESC', 'ROLE_FAMILY',\n",
       "       'ROLE_CODE'],\n",
       "      dtype='object')"
      ]
     },
     "execution_count": 41,
     "metadata": {},
     "output_type": "execute_result"
    }
   ],
   "source": [
    "df.columns"
   ]
  },
  {
   "cell_type": "code",
   "execution_count": 42,
   "id": "226045e3",
   "metadata": {
    "colab": {
     "base_uri": "https://localhost:8080/"
    },
    "id": "226045e3",
    "outputId": "8dc088ee-650d-40fc-c751-12e843b20b5c"
   },
   "outputs": [
    {
     "data": {
      "text/plain": [
       "32769"
      ]
     },
     "execution_count": 42,
     "metadata": {},
     "output_type": "execute_result"
    }
   ],
   "source": [
    "# size of dataset\n",
    "len(df)"
   ]
  },
  {
   "cell_type": "code",
   "execution_count": 43,
   "id": "4c037349",
   "metadata": {
    "colab": {
     "base_uri": "https://localhost:8080/"
    },
    "id": "4c037349",
    "outputId": "b71b2da1-10c3-4da2-ce91-5c38f4384d3d"
   },
   "outputs": [
    {
     "data": {
      "text/plain": [
       "ACTION              0\n",
       "RESOURCE            0\n",
       "MGR_ID              0\n",
       "ROLE_ROLLUP_1       0\n",
       "ROLE_ROLLUP_2       0\n",
       "ROLE_DEPTNAME       0\n",
       "ROLE_TITLE          0\n",
       "ROLE_FAMILY_DESC    0\n",
       "ROLE_FAMILY         0\n",
       "ROLE_CODE           0\n",
       "dtype: int64"
      ]
     },
     "execution_count": 43,
     "metadata": {},
     "output_type": "execute_result"
    }
   ],
   "source": [
    "# check for empty records\n",
    "df.isnull().sum()"
   ]
  },
  {
   "cell_type": "markdown",
   "id": "db39c885",
   "metadata": {
    "id": "db39c885"
   },
   "source": [
    "## 3.0 Data Visualization"
   ]
  },
  {
   "cell_type": "code",
   "execution_count": 44,
   "id": "ffd2e351",
   "metadata": {
    "colab": {
     "base_uri": "https://localhost:8080/",
     "height": 574
    },
    "id": "ffd2e351",
    "outputId": "f85c80b1-a7fd-4c32-bf50-eb8b2fb14c5f"
   },
   "outputs": [
    {
     "data": {
      "image/png": "[encoded data removed]",
      "text/plain": [
       "<Figure size 800x600 with 1 Axes>"
      ]
     },
     "metadata": {},
     "output_type": "display_data"
    }
   ],
   "source": [
    "\n",
    "# Calculate class counts and percentages\n",
    "sns.set_style(\"darkgrid\")\n",
    "class_counts = df['ACTION'].value_counts()\n",
    "total_samples = len(df)\n",
    "percentage_labels = [(count / total_samples) * 100 for count in class_counts]\n",
    "\n",
    "# Create a bar chart to visualize the class distribution\n",
    "plt.figure(figsize=(8, 6))\n",
    "ax = class_counts.plot(kind='bar')\n",
    "plt.title('Access Control Distribution', fontweight='bold', fontsize=14)\n",
    "plt.xlabel('Employee Actions', fontweight='bold', fontsize=14)\n",
    "plt.ylabel('Number of Employee Records', fontweight='bold', fontsize=14)\n",
    "plt.xticks(rotation=0, fontsize=12, fontweight='bold')\n",
    "plt.yticks(fontsize=12, fontweight='bold')\n",
    "\n",
    "# Add percentage labels on top of the bars (make them bold)\n",
    "for i, count in enumerate(class_counts):\n",
    "    ax.text(i, count, f'{percentage_labels[i]:.2f}%', ha='center', va='bottom', fontsize=12, fontweight='bold')\n",
    "\n",
    "\n",
    "plt.show()\n"
   ]
  },
  {
   "cell_type": "markdown",
   "id": "-nbLej5I0PxD",
   "metadata": {
    "id": "-nbLej5I0PxD"
   },
   "source": [
    "**Note:** Our raw dataset looks clean; we don't have any missing values; however, we might need to check for data inbalance.\n",
    "\n",
    "1. The dataset is highly imbalance with 94.21% **1's** and 5.79% **0's**\n"
   ]
  },
  {
   "cell_type": "markdown",
   "id": "769c3ad1",
   "metadata": {
    "id": "769c3ad1"
   },
   "source": [
    "## 4.0 Feature Engineering\n",
    "1. Slit data in train-test\n",
    "2. Scaling Data:  standardization"
   ]
  },
  {
   "cell_type": "code",
   "execution_count": 11,
   "id": "lF2G1RF14nLS",
   "metadata": {
    "id": "lF2G1RF14nLS"
   },
   "outputs": [],
   "source": [
    "# importing relavant packages and classifiers from sklearn library\n",
    "\n",
    "from sklearn.preprocessing import StandardScaler # for scaling\n",
    "from sklearn.model_selection import train_test_split # for data splitting\n",
    "\n",
    "from sklearn.ensemble import RandomForestClassifier\n",
    "from lightgbm import LGBMClassifier\n",
    "\n",
    "from sklearn.metrics import classification_report, confusion_matrix, roc_curve, roc_auc_score, accuracy_score\n",
    "from sklearn.metrics import precision_recall_fscore_support\n",
    "from sklearn.metrics import accuracy_score, classification_report, confusion_matrix\n"
   ]
  },
  {
   "cell_type": "code",
   "execution_count": 12,
   "id": "79e61cb1",
   "metadata": {
    "id": "79e61cb1"
   },
   "outputs": [],
   "source": [
    "# Separating the target label from the features\n",
    "y = df[\"ACTION\"] # labels\n",
    "X = df.drop(\"ACTION\", axis=1)  # training features\n"
   ]
  },
  {
   "cell_type": "code",
   "execution_count": 13,
   "id": "d767be62",
   "metadata": {
    "id": "d767be62"
   },
   "outputs": [],
   "source": [
    "# Split the data into training and testing sets\n",
    "X_train, X_test, y_train, y_test = train_test_split(X, y, test_size=0.2)\n"
   ]
  },
  {
   "cell_type": "code",
   "execution_count": 45,
   "id": "faa8f93f",
   "metadata": {
    "id": "faa8f93f"
   },
   "outputs": [],
   "source": [
    "#Scaling Dataset\n",
    "scaler = StandardScaler()\n",
    "\n",
    "# Fit and transform the scaler on the training set\n",
    "X_train_scaled = scaler.fit_transform(X_train)\n",
    "\n",
    "# Transform the testing set using the same scaler\n",
    "X_test_scaled = scaler.transform(X_test)\n",
    "\n",
    "#convert y_train to numpy array\n",
    "y_train = np.array(y_train)"
   ]
  },
  {
   "cell_type": "markdown",
   "id": "3d13c15f",
   "metadata": {
    "id": "3d13c15f"
   },
   "source": [
    "## Model Training"
   ]
  },
  {
   "cell_type": "code",
   "execution_count": 46,
   "id": "2c6845b6",
   "metadata": {
    "id": "2c6845b6"
   },
   "outputs": [],
   "source": [
    "# building a general function for training the model\n",
    "def model_train(model, X_train, X_test, y_train, y_test):\n",
    "    model.fit(X_train, y_train)\n",
    "    y_pred_tr = model.predict(X_train)\n",
    "    y_pred = model.predict(X_test)\n",
    "\n",
    "\n",
    "    print(\"--------------------Testing Performance----------------------\")\n",
    "    accuracy = accuracy_score(y_test, y_pred)\n",
    "    print(accuracy_score(y_test, y_pred))\n",
    "    print(classification_report(y_test, y_pred))\n",
    "\n",
    "    print(\"=======================================\")\n",
    "    print(\" \\n \")\n",
    "    print(\"============Accuracy==========\")\n",
    "    print(accuracy_score(y_test, y_pred))\n",
    "\n",
    "    conf_matrix = confusion_matrix(y_test, y_pred)\n",
    "    print(\"============= Recall ===================\")\n",
    "\n",
    "    # Calculate recall\n",
    "    TP = conf_matrix[1, 1]  # True Positives\n",
    "    FN = conf_matrix[1, 0]  # False Negatives\n",
    "    recall = TP / (TP + FN)\n",
    "\n",
    "    print(f'Recall: {recall:.5f}')\n",
    "\n",
    "    print(\"============= Precision ===================\")\n",
    "\n",
    "    # Calculate precision\n",
    "    TP = conf_matrix[1, 1]  # True Positives\n",
    "    FP = conf_matrix[0, 1]  # False Positives\n",
    "    precision = TP / (TP + FP)\n",
    "\n",
    "    print(f'Precision: {precision:.5f}')\n",
    "\n",
    "    print(\"============= F1 Score ===================\")\n",
    "\n",
    "    # Calculate precision and recall\n",
    "    TP = conf_matrix[1, 1]  # True Positives\n",
    "    FP = conf_matrix[0, 1]  # False Positives\n",
    "    FN = conf_matrix[1, 0]  # False Negatives\n",
    "\n",
    "    precision = TP / (TP + FP)\n",
    "    recall = TP / (TP + FN)\n",
    "\n",
    "    # Calculate F1 score\n",
    "    f1_score = 2 * (precision * recall) / (precision + recall)\n",
    "\n",
    "    print(f'F1 Score: {f1_score:.5f}')\n",
    "\n",
    "    print(\"============= True Positive Rate (TPR) ===================\")\n",
    "\n",
    "    # Calculate True Positive Rate (TPR)\n",
    "    TPR = recall\n",
    "\n",
    "    print(f'True Positive Rate (TPR): {TPR:.5f}')\n",
    "\n",
    "    print(\"============= False Positive Rate (FPR) ===================\")\n",
    "\n",
    "    # Calculate False Positive Rate (FPR)\n",
    "    FP = conf_matrix[0, 1]  # False Positives\n",
    "    TN = conf_matrix[0, 0]  # True Negatives\n",
    "    FPR = FP / (FP + TN)\n",
    "\n",
    "    print(f'False Positive Rate (FPR): {FPR:.5f}')\n",
    "\n",
    "    return y_pred\n"
   ]
  },
  {
   "cell_type": "markdown",
   "id": "Rn0pVyOqFqlO",
   "metadata": {
    "id": "Rn0pVyOqFqlO"
   },
   "source": [
    "## Evaluation Metrics\n",
    "\n",
    "1. **Accuracy**: It measures the overall correctness of predictions made by a model, calculated as the ratio of correctly predicted instances to the total number of instances.\n",
    "\n",
    "2. **Precision** is the ratio of true positive predictions to the total number of positive predictions. It measures the accuracy of positive predictions made by the model.\n",
    "\n",
    "3. **Recall**: Recall, also known as **sensitivity** or **true positive rate**, assesses the model's ability to identify all relevant instances in the dataset. It's calculated as the ratio of true positives to the sum of true positives and false negatives.\n",
    "\n",
    "4. **True Positive Rate (TPR):** TPR is also called **Recall** It represents the proportion of true positives among all actual positives in the dataset.\n",
    "\n",
    "5. **False Positive Rate (FPR)**: FPR measures the rate at which the model incorrectly predicts positive outcomes when they are actually negative. It's calculated as the ratio of false positives to the sum of false positives and true negatives.\n",
    "\n",
    "6. **F1 Score:** It combines the precision and recall scores of a model. The F1 score is calculated as the **harmonic mean of the precision and recall scores,** and a higher F1 score denotes a better-quality classifier."
   ]
  },
  {
   "cell_type": "markdown",
   "id": "1d2f1409",
   "metadata": {
    "id": "1d2f1409"
   },
   "source": [
    "## 5.1 Random Forest\n",
    "\n",
    "* Random Forest: Random Forest builds a collection of decision trees, typically using the CART (Classification and Regression Trees) algorithm. It grows each tree independently and combines their predictions through bagging (bootstrap aggregating) and averaging."
   ]
  },
  {
   "cell_type": "code",
   "execution_count": 47,
   "id": "6AwETU9Oczpx",
   "metadata": {
    "colab": {
     "base_uri": "https://localhost:8080/"
    },
    "id": "6AwETU9Oczpx",
    "outputId": "0b6d4077-163e-404e-9ca2-8e4f5fdc8cb6"
   },
   "outputs": [
    {
     "name": "stdout",
     "output_type": "stream",
     "text": [
      "--------------------Testing Performance----------------------\n",
      "0.9453768690875801\n",
      "              precision    recall  f1-score   support\n",
      "\n",
      "           0       0.58      0.40      0.47       400\n",
      "           1       0.96      0.98      0.97      6154\n",
      "\n",
      "    accuracy                           0.95      6554\n",
      "   macro avg       0.77      0.69      0.72      6554\n",
      "weighted avg       0.94      0.95      0.94      6554\n",
      "\n",
      "=======================================\n",
      " \n",
      " \n",
      "============Accuracy==========\n",
      "0.9453768690875801\n",
      "============= Recall ===================\n",
      "Recall: 0.98083\n",
      "============= Precision ===================\n",
      "Precision: 0.96176\n",
      "============= F1 Score ===================\n",
      "F1 Score: 0.97120\n",
      "============= True Positive Rate (TPR) ===================\n",
      "True Positive Rate (TPR): 0.98083\n",
      "============= False Positive Rate (FPR) ===================\n",
      "False Positive Rate (FPR): 0.60000\n"
     ]
    }
   ],
   "source": [
    "model = RandomForestClassifier(n_estimators=100, random_state=42)\n",
    "y_pred2 = model_train(model, X_train, X_test, y_train, y_test)"
   ]
  },
  {
   "cell_type": "code",
   "execution_count": 22,
   "id": "034a6cc3",
   "metadata": {
    "id": "034a6cc3"
   },
   "outputs": [],
   "source": []
  },
  {
   "cell_type": "code",
   "execution_count": 18,
   "id": "f1a6cf19",
   "metadata": {
    "id": "f1a6cf19"
   },
   "outputs": [],
   "source": [
    "#!pip3 install lightgbm"
   ]
  },
  {
   "cell_type": "markdown",
   "id": "646d60d5",
   "metadata": {
    "id": "646d60d5"
   },
   "source": [
    "## 5.2  LightGBM\n",
    "\n",
    "* LightGBM is a high-performance gradient boosting framework widely used in machine learning. It excels in speed, memory efficiency, and accuracy, making it a popular choice for tasks involving structured data and large datasets.\n",
    "\n",
    "* LightGBM builds an ensemble of decision trees in a sequential manner. It minimizes a loss function by adding trees to the ensemble, with each tree correcting the errors made by the previous ones."
   ]
  },
  {
   "cell_type": "code",
   "execution_count": 48,
   "id": "ff1e249c",
   "metadata": {
    "colab": {
     "base_uri": "https://localhost:8080/"
    },
    "id": "ff1e249c",
    "outputId": "2a294cdf-d00f-4ab7-a36f-8b6762a5f2d2"
   },
   "outputs": [
    {
     "name": "stdout",
     "output_type": "stream",
     "text": [
      "[LightGBM] [Warning] Accuracy may be bad since you didn't explicitly set num_leaves OR 2^max_depth > num_leaves. (num_leaves=31).\n",
      "[LightGBM] [Warning] Accuracy may be bad since you didn't explicitly set num_leaves OR 2^max_depth > num_leaves. (num_leaves=31).\n",
      "[LightGBM] [Info] Number of positive: 24718, number of negative: 1497\n",
      "[LightGBM] [Warning] Auto-choosing col-wise multi-threading, the overhead of testing was 0.002477 seconds.\n",
      "You can set `force_col_wise=true` to remove the overhead.\n",
      "[LightGBM] [Info] Total Bins 1804\n",
      "[LightGBM] [Info] Number of data points in the train set: 26215, number of used features: 9\n",
      "[LightGBM] [Info] [binary:BoostFromScore]: pavg=0.942895 -> initscore=2.804069\n",
      "[LightGBM] [Info] Start training from score 2.804069\n",
      "[LightGBM] [Warning] Accuracy may be bad since you didn't explicitly set num_leaves OR 2^max_depth > num_leaves. (num_leaves=31).\n",
      "[LightGBM] [Warning] Accuracy may be bad since you didn't explicitly set num_leaves OR 2^max_depth > num_leaves. (num_leaves=31).\n",
      "--------------------Testing Performance----------------------\n",
      "0.9429356118400977\n",
      "              precision    recall  f1-score   support\n",
      "\n",
      "           0       0.56      0.31      0.40       400\n",
      "           1       0.96      0.98      0.97      6154\n",
      "\n",
      "    accuracy                           0.94      6554\n",
      "   macro avg       0.76      0.65      0.68      6554\n",
      "weighted avg       0.93      0.94      0.94      6554\n",
      "\n",
      "=======================================\n",
      " \n",
      " \n",
      "============Accuracy==========\n",
      "0.9429356118400977\n",
      "============= Recall ===================\n",
      "Recall: 0.98408\n",
      "============= Precision ===================\n",
      "Precision: 0.95641\n",
      "============= F1 Score ===================\n",
      "F1 Score: 0.97005\n",
      "============= True Positive Rate (TPR) ===================\n",
      "True Positive Rate (TPR): 0.98408\n",
      "============= False Positive Rate (FPR) ===================\n",
      "False Positive Rate (FPR): 0.69000\n"
     ]
    }
   ],
   "source": [
    "from lightgbm import LGBMClassifier\n",
    "hyperparameters = {\n",
    "    'learning_rate': 0.5,\n",
    "    'max_depth': 10,\n",
    "    'n_estimators': 300\n",
    "}\n",
    "\n",
    "# Create the LGBMClassifier with specified hyperparameters\n",
    "model = LGBMClassifier(**hyperparameters)\n",
    "\n",
    "#model = LGBMClassifier()\n",
    "y_pred4 = model_train(model, X_train, X_test, y_train, y_test)"
   ]
  },
  {
   "cell_type": "code",
   "execution_count": null,
   "id": "qkOeMWBhSlbq",
   "metadata": {
    "id": "qkOeMWBhSlbq"
   },
   "outputs": [],
   "source": []
  }
 ],
 "metadata": {
  "colab": {
   "provenance": []
  },
  "kernelspec": {
   "display_name": "Python 3 (ipykernel)",
   "language": "python",
   "name": "python3"
  },
  "language_info": {
   "codemirror_mode": {
    "name": "ipython",
    "version": 3
   },
   "file_extension": ".py",
   "mimetype": "text/x-python",
   "name": "python",
   "nbconvert_exporter": "python",
   "pygments_lexer": "ipython3",
   "version": "3.8.12"
  }
 },
 "nbformat": 4,
 "nbformat_minor": 5
}
